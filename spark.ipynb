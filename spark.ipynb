{
 "cells": [
  {
   "cell_type": "code",
   "execution_count": 17,
   "metadata": {},
   "outputs": [
    {
     "name": "stdout",
     "output_type": "stream",
     "text": [
      "Requirement already satisfied: pyspark in c:\\users\\pamela\\anaconda3\\lib\\site-packages (3.5.1)\n",
      "Requirement already satisfied: py4j==0.10.9.7 in c:\\users\\pamela\\anaconda3\\lib\\site-packages (from pyspark) (0.10.9.7)\n",
      "Note: you may need to restart the kernel to use updated packages.\n"
     ]
    }
   ],
   "source": [
    "%pip install pyspark\n"
   ]
  },
  {
   "cell_type": "code",
   "execution_count": 1,
   "metadata": {},
   "outputs": [],
   "source": [
    "from pyspark.sql import SparkSession\n",
    "from pyspark.sql.functions import col, mean\n",
    "from sqlalchemy import create_engine\n",
    "import pandas as pd"
   ]
  },
  {
   "cell_type": "code",
   "execution_count": 8,
   "metadata": {},
   "outputs": [],
   "source": [
    "# ecom_df.write.partitionBy('Transaction_Date').parquet('partition_data')"
   ]
  },
  {
   "cell_type": "code",
   "execution_count": 2,
   "metadata": {},
   "outputs": [],
   "source": [
    "spark = SparkSession.builder.appName('DataExplore').getOrCreate()"
   ]
  },
  {
   "cell_type": "code",
   "execution_count": 3,
   "metadata": {},
   "outputs": [
    {
     "data": {
      "text/html": [
       "\n",
       "            <div>\n",
       "                <p><b>SparkSession - in-memory</b></p>\n",
       "                \n",
       "        <div>\n",
       "            <p><b>SparkContext</b></p>\n",
       "\n",
       "            <p><a href=\"http://192.168.10.1:4040\">Spark UI</a></p>\n",
       "\n",
       "            <dl>\n",
       "              <dt>Version</dt>\n",
       "                <dd><code>v3.5.1</code></dd>\n",
       "              <dt>Master</dt>\n",
       "                <dd><code>local[*]</code></dd>\n",
       "              <dt>AppName</dt>\n",
       "                <dd><code>DataExplore</code></dd>\n",
       "            </dl>\n",
       "        </div>\n",
       "        \n",
       "            </div>\n",
       "        "
      ],
      "text/plain": [
       "<pyspark.sql.session.SparkSession at 0x2674c41ce50>"
      ]
     },
     "execution_count": 3,
     "metadata": {},
     "output_type": "execute_result"
    }
   ],
   "source": [
    "spark"
   ]
  },
  {
   "cell_type": "code",
   "execution_count": 5,
   "metadata": {},
   "outputs": [],
   "source": [
    "nugabank_df = spark.read.csv(r'dataset\\nuga_bank_transactions.csv', header = True, inferSchema= True)"
   ]
  },
  {
   "cell_type": "code",
   "execution_count": 6,
   "metadata": {},
   "outputs": [
    {
     "name": "stdout",
     "output_type": "stream",
     "text": [
      "+--------------------+------+----------------+-----------------+--------------------+--------------------+--------------+--------------------+--------------------+--------------------+--------------------+-------------------+-------------------+--------------------+-------------+-------------+--------+-----+---------+--------------------+--------------------+------+--------------+\n",
      "|    Transaction_Date|Amount|Transaction_Type|    Customer_Name|    Customer_Address|       Customer_City|Customer_State|    Customer_Country|             Company|           Job_Title|               Email|       Phone_Number| Credit_Card_Number|                IBAN|Currency_Code|Random_Number|Category|Group|Is_Active|        Last_Updated|         Description|Gender|Marital_Status|\n",
      "+--------------------+------+----------------+-----------------+--------------------+--------------------+--------------+--------------------+--------------------+--------------------+--------------------+-------------------+-------------------+--------------------+-------------+-------------+--------+-----+---------+--------------------+--------------------+------+--------------+\n",
      "|2024-03-23 15:38:...| 34.76|      Withdrawal|       James Neal|54912 Holmes Lodg...|   West Keithborough|       Florida|                Togo|Benson, Johnson a...|                NULL|                NULL|  493.720.6609x7545|   3592901394693441|GB98RBPP090285271...|          MAD|       3167.0|       C|    Z|       No|2020-06-20 03:04:...|Yeah food anythin...| Other|      Divorced|\n",
      "|2024-04-22 19:15:...|163.92|      Withdrawal|      Thomas Long| 1133 Collin Passage|          Joshuabury|   Connecticut|Lao People's Demo...|                NULL|   Food technologist|michellelynch@exa...|      (497)554-3317|               NULL|GB03KFZR339662263...|          VEF|       2122.0|       B|    Z|     NULL|2020-12-27 13:23:...|Teach edge make n...|Female|       Married|\n",
      "|2024-04-12 19:46:...|386.32|      Withdrawal|   Ashley Shelton|5297 Johnson Port...|         North Maria|    New Jersey|              Bhutan|       Jones-Mueller|Database administ...| ljordan@example.org|      (534)769-3072|       675983949974|GB59QYRN446730519...|          COP|       7796.0|       C|    Z|       No|2020-01-24 01:23:...|Again line face c...| Other|          NULL|\n",
      "|2024-04-17 15:29:...|407.15|         Deposit|    James Rosario|56955 Moore Glens...|  North Michellefurt|    New Mexico|             Iceland|       Vargas-Harris|Horticultural the...|parkerjames@examp...|+1-447-900-1320x257|      4761202519057|GB74FTDO268299438...|          BWP|       6284.0|       C|    Z|      Yes|2023-09-27 03:01:...|     Bag my a drive.|  NULL|          NULL|\n",
      "|2024-02-10 01:51:...|161.31|         Deposit|   Miguel Leonard|262 Beck Expressw...|                NULL| West Virginia|             Eritrea|Richardson, Gonza...|   Minerals surveyor| zweaver@example.net|               NULL|    213156729655186|GB94EWRN587847592...|          SOS|       9179.0|       C|    Y|       No|2022-01-22 19:08:...|Husband find ok w...|Female|       Married|\n",
      "|2024-02-10 22:56:...|764.34|        Transfer|      Jesse Clark|      194 Derek Burg|        Wallacemouth|    New Mexico|             Estonia|           Smith Ltd| Seismic interpreter|benjaminwalker@ex...|   229-511-2530x870|       501851472974|                NULL|          ZWD|         NULL|       B|    Z|      Yes|2023-02-18 19:26:...|                NULL| Other|       Married|\n",
      "|2024-04-07 00:07:...|734.59|         Deposit|       Mark Estes|4077 James Lane A...|      Williamsonport|      Michigan|Antarctica (the t...|         Wade-Kelley|  Surveyor, minerals|karenrobinson@exa...|      (840)334-1610|4543690154172468535|GB55FCPC779828821...|          CAD|       7304.0|       A|    X|      Yes|2020-10-27 16:48:...|Standard prepare ...|  Male|          NULL|\n",
      "|2024-03-08 01:51:...|592.43|         Deposit|       Kelly Ruiz|                NULL|          New Lauren|          NULL|                NULL|                NULL|Medical laborator...|  iestes@example.org| 495.430.4276x42618|      4500718397537|GB78FDAJ595830659...|          RON|       2445.0|       B|    X|       No|2022-11-19 08:59:...|                NULL|Female|        Single|\n",
      "|2024-04-02 06:21:...|472.35|        Transfer|             NULL|1467 Heather Vill...|         Conniemouth|          NULL|               Macao|Ellis, Smith and ...|Television/film/v...|rebeccarodriguez@...|       511.666.5891|      4884893247570|GB91HQDO449272193...|          LTL|       2721.0|    NULL|    Z|       No|                NULL|Leg out walk rece...| Other|          NULL|\n",
      "|2024-02-01 12:34:...| 927.1|         Deposit|        Brad Yang|    579 Nolan Harbor|South Christopher...|  South Dakota|                NULL|         Lindsey LLC|Programmer, appli...|maryduran@example...|  (241)738-0972x658|    180039947294310|GB48WNWB013807482...|          HRK|       3061.0|       B|    X|       No|2020-08-31 20:40:...|Notice paper son ...|Female|        Single|\n",
      "|2024-03-22 16:46:...| 66.59|        Transfer|   Dalton Jimenez|4330 Christine Vista|        Port Kirsten|          NULL|            Cameroon|         Carroll LLC|                NULL|                NULL|       670-499-0309|    213171934267032|GB05MHXA361278613...|          BAM|       3958.0|    NULL| NULL|      Yes|2022-09-19 03:52:...|He wish soldier t...|  Male|        Single|\n",
      "|2024-04-23 13:30:...| 246.3|      Withdrawal|   Paige Sheppard|0947 Mendez Under...|          Medinastad|North Carolina|             Iceland|                NULL|     Sales executive|  eric64@example.net|               NULL|    342940028197162|GB54HHLQ489156729...|          ZWD|       8312.0|    NULL|    Z|      Yes|2023-06-02 04:34:...|This speak buildi...|  Male|      Divorced|\n",
      "|2024-04-24 20:44:...| 17.74|        Transfer|        Ryan Rice|63191 Carol River...|       North Heather|      Virginia|               Gabon|     Arnold-Hamilton|Biomedical scientist|gonzalestammy@exa...|      (891)958-6442|   4263644221766495|GB47BGNG208602249...|          AOA|       6148.0|       D|    Y|       No|                NULL|Camera spring tea...|Female|          NULL|\n",
      "|2024-02-23 05:48:...|640.74|      Withdrawal|   Danielle Young| 8484 Kelley Circles|           Karahaven|    New Jersey|            Dominica|        Fox and Sons|Operational inves...| maria62@example.net|               NULL|       675908517708|GB92DFSO760691881...|          TJS|         NULL|       B|    Z|      Yes|                NULL|Occur second offe...|Female|       Married|\n",
      "|2024-01-13 01:22:...|782.32|      Withdrawal|   Stephen Nguyen|    01696 Brown Cape|          South Mary|       Wyoming|Heard Island and ...|Lynch, Hayes and ...|       Stage manager|stewartjames@exam...|  680-460-3674x6031|   4304956118653227|GB15VYWJ018711823...|          NIO|       2502.0|       B|    Y|      Yes|2021-04-12 20:23:...|Rest theory serve...|  NULL|       Married|\n",
      "|2024-02-25 15:16:...|818.42|      Withdrawal|    Renee Roberts|7591 Ponce Unions...|          Amandaside| Massachusetts|            Barbados|           Green Ltd|Psychologist, pri...|                NULL|       695-680-5744|   6011259703732723|GB34HWCA758164830...|          AFN|       4452.0|       C| NULL|       No|2023-07-09 08:03:...|Program sense arm...|  Male|          NULL|\n",
      "|2024-01-01 20:55:...|352.23|      Withdrawal|Jacqueline Thomas|172 Morse Falls A...|         Bennettbury|      Oklahoma|                Fiji|                NULL|Designer, blown g...|  mark84@example.com| 484.837.6166x81262|     30287519972043|GB62WWAH360646956...|          VUV|       2251.0|       C|    Z|      Yes|2022-02-07 00:48:...|Prepare other los...|Female|        Single|\n",
      "|2024-01-19 00:01:...|316.19|      Withdrawal|     Joseph Pratt|71283 Thomas Port...|        Lake Michele|        Nevada|     Kyrgyz Republic|     Morris-Reynolds|          Podiatrist|robert02@example.com| 623.219.7997x39012|   3555463260975431|GB28XTGC966091493...|          PHP|       2208.0|       C|    Y|      Yes|2023-10-16 00:05:...|Blood painting sp...| Other|       Married|\n",
      "|2024-04-09 14:40:...|662.26|      Withdrawal|        Tara Gray|    3476 Johnny Loaf|     South Davidland|     Tennessee|               Tonga|         Sutton-Owen|   Financial planner|ewilliams@example...|               NULL|   6517022443907149|GB64TDZA391035546...|          GNF|         NULL|       C|    X|      Yes|2022-04-21 21:43:...|Station professio...| Other|       Married|\n",
      "|2024-04-15 04:58:...|893.73|         Deposit|  Dominique Lynch|   181 Gregory Ferry|           Jamesfort|         Maine|               Kenya|         Brown Group|Nutritional thera...|suzanne41@example...|       448-821-0207|   3564854271916761|GB58VVHN678787830...|          AED|       2546.0|       B|    Y|      Yes|2021-09-14 07:15:...|Letter hand soldi...| Other|       Married|\n",
      "+--------------------+------+----------------+-----------------+--------------------+--------------------+--------------+--------------------+--------------------+--------------------+--------------------+-------------------+-------------------+--------------------+-------------+-------------+--------+-----+---------+--------------------+--------------------+------+--------------+\n",
      "only showing top 20 rows\n",
      "\n"
     ]
    }
   ],
   "source": [
    "nugabank_df.show()"
   ]
  },
  {
   "cell_type": "code",
   "execution_count": 7,
   "metadata": {},
   "outputs": [
    {
     "name": "stdout",
     "output_type": "stream",
     "text": [
      "+-------+------------------+----------------+-------------+--------------------+-------------+--------------+----------------+-------------+------------------+-------------------+--------------------+--------------------+--------------------+-------------+------------------+--------+------+---------+--------------------+------+--------------+\n",
      "|summary|            Amount|Transaction_Type|Customer_Name|    Customer_Address|Customer_City|Customer_State|Customer_Country|      Company|         Job_Title|              Email|        Phone_Number|  Credit_Card_Number|                IBAN|Currency_Code|     Random_Number|Category| Group|Is_Active|         Description|Gender|Marital_Status|\n",
      "+-------+------------------+----------------+-------------+--------------------+-------------+--------------+----------------+-------------+------------------+-------------------+--------------------+--------------------+--------------------+-------------+------------------+--------+------+---------+--------------------+------+--------------+\n",
      "|  count|           1000000|         1000000|       899575|              899913|       899966|        899991|          899328|       899705|            900076|             899957|              899476|              899915|              899700|       900658|            900087|  899668|899791|   899741|              899597|900233|        900096|\n",
      "|   mean|504.97371121999953|            NULL|         NULL|                NULL|         NULL|          NULL|            NULL|         NULL|              NULL|               NULL|  6.00341888622502E9|3.785330130644817...|                NULL|         NULL| 5504.445295843624|    NULL|  NULL|     NULL|                NULL|  NULL|          NULL|\n",
      "| stddev| 285.7997202441231|            NULL|         NULL|                NULL|         NULL|          NULL|            NULL|         NULL|              NULL|               NULL|2.3071119812223907E9|1.247765855631420...|                NULL|         NULL|2598.1680843741146|    NULL|  NULL|     NULL|                NULL|  NULL|          NULL|\n",
      "|    min|              10.0|         Deposit| Aaron Abbott|000 Aaron Landing...|    Aaronberg|       Alabama|     Afghanistan| Abbott Group|Academic librarian|aabbott@example.com|       (200)201-4254|         60400015693|GB02AAAU191993009...|          AED|            1000.0|       A|     X|       No|A American and to...|Female|      Divorced|\n",
      "|    max|            1000.0|      Withdrawal|    Zoe Young|    99999 Mark Vista|  Zunigaville|       Wyoming|        Zimbabwe|Zuniga-Wilson|      Youth worker|zzuniga@example.org|          9999777682| 4999984361512569455|GB98ZZXM257326775...|          ZWD|            9999.0|       D|     Z|      Yes|Yourself young ev...| Other|        Single|\n",
      "+-------+------------------+----------------+-------------+--------------------+-------------+--------------+----------------+-------------+------------------+-------------------+--------------------+--------------------+--------------------+-------------+------------------+--------+------+---------+--------------------+------+--------------+\n",
      "\n"
     ]
    }
   ],
   "source": [
    "nugabank_df.describe().show()"
   ]
  },
  {
   "cell_type": "code",
   "execution_count": 10,
   "metadata": {},
   "outputs": [
    {
     "name": "stdout",
     "output_type": "stream",
     "text": [
      "root\n",
      " |-- Transaction_Date: timestamp (nullable = true)\n",
      " |-- Amount: double (nullable = true)\n",
      " |-- Transaction_Type: string (nullable = true)\n",
      " |-- Customer_Name: string (nullable = true)\n",
      " |-- Customer_Address: string (nullable = true)\n",
      " |-- Customer_City: string (nullable = true)\n",
      " |-- Customer_State: string (nullable = true)\n",
      " |-- Customer_Country: string (nullable = true)\n",
      " |-- Company: string (nullable = true)\n",
      " |-- Job_Title: string (nullable = true)\n",
      " |-- Email: string (nullable = true)\n",
      " |-- Phone_Number: string (nullable = true)\n",
      " |-- Credit_Card_Number: long (nullable = true)\n",
      " |-- IBAN: string (nullable = true)\n",
      " |-- Currency_Code: string (nullable = true)\n",
      " |-- Random_Number: double (nullable = true)\n",
      " |-- Category: string (nullable = true)\n",
      " |-- Group: string (nullable = true)\n",
      " |-- Is_Active: string (nullable = true)\n",
      " |-- Last_Updated: timestamp (nullable = true)\n",
      " |-- Description: string (nullable = true)\n",
      " |-- Gender: string (nullable = true)\n",
      " |-- Marital_Status: string (nullable = true)\n",
      "\n"
     ]
    }
   ],
   "source": [
    "nugabank_df.printSchema()"
   ]
  },
  {
   "cell_type": "code",
   "execution_count": 8,
   "metadata": {},
   "outputs": [
    {
     "name": "stdout",
     "output_type": "stream",
     "text": [
      "Transaction_Date Nulls 0\n",
      "Amount Nulls 0\n",
      "Transaction_Type Nulls 0\n",
      "Customer_Name Nulls 100425\n",
      "Customer_Address Nulls 100087\n",
      "Customer_City Nulls 100034\n",
      "Customer_State Nulls 100009\n",
      "Customer_Country Nulls 100672\n",
      "Company Nulls 100295\n",
      "Job_Title Nulls 99924\n",
      "Email Nulls 100043\n",
      "Phone_Number Nulls 100524\n",
      "Credit_Card_Number Nulls 100085\n",
      "IBAN Nulls 100300\n",
      "Currency_Code Nulls 99342\n",
      "Random_Number Nulls 99913\n",
      "Category Nulls 100332\n",
      "Group Nulls 100209\n",
      "Is_Active Nulls 100259\n",
      "Last_Updated Nulls 100321\n",
      "Description Nulls 100403\n",
      "Gender Nulls 99767\n",
      "Marital_Status Nulls 99904\n"
     ]
    }
   ],
   "source": [
    "for column in nugabank_df.columns:\n",
    "    print(column, 'Nulls', nugabank_df.filter(nugabank_df[column].isNull()).count())"
   ]
  },
  {
   "cell_type": "code",
   "execution_count": 15,
   "metadata": {},
   "outputs": [
    {
     "ename": "AnalysisException",
     "evalue": "[UNRESOLVED_COLUMN.WITH_SUGGESTION] A column or function parameter with name `Rating` cannot be resolved. Did you mean one of the following? [`Transaction_Date`, `Amount`, `Transaction_Type`, `Customer_Name`, `Customer_Address`, `Customer_City`, `Customer_State`, `Customer_Country`, `Company`, `Job_Title`, `Email`, `Phone_Number`, `Credit_Card_Number`, `IBAN`, `Currency_Code`, `Random_Number`, `Category`, `Group`, `Is_Active`, `Last_Updated`, `Description`, `Gender`, `Marital_Status`].",
     "output_type": "error",
     "traceback": [
      "\u001b[1;31m---------------------------------------------------------------------------\u001b[0m",
      "\u001b[1;31mAnalysisException\u001b[0m                         Traceback (most recent call last)",
      "Cell \u001b[1;32mIn[15], line 1\u001b[0m\n\u001b[1;32m----> 1\u001b[0m ecom_df \u001b[38;5;241m=\u001b[39m ecom_df\u001b[38;5;241m.\u001b[39mfillna({\n\u001b[0;32m      2\u001b[0m     \u001b[38;5;124m'\u001b[39m\u001b[38;5;124mRating\u001b[39m\u001b[38;5;124m'\u001b[39m:\u001b[38;5;241m0\u001b[39m,\n\u001b[0;32m      3\u001b[0m     \u001b[38;5;124m'\u001b[39m\u001b[38;5;124mReview\u001b[39m\u001b[38;5;124m'\u001b[39m:\u001b[38;5;124m'\u001b[39m\u001b[38;5;124mNo Review\u001b[39m\u001b[38;5;124m'\u001b[39m,\n\u001b[0;32m      4\u001b[0m     \u001b[38;5;124m'\u001b[39m\u001b[38;5;124mNullColumn\u001b[39m\u001b[38;5;124m'\u001b[39m: \u001b[38;5;124m'\u001b[39m\u001b[38;5;124munknown\u001b[39m\u001b[38;5;124m'\u001b[39m\n\u001b[0;32m      5\u001b[0m })\n",
      "File \u001b[1;32mc:\\Users\\PAMELA\\anaconda3\\Lib\\site-packages\\pyspark\\sql\\dataframe.py:4452\u001b[0m, in \u001b[0;36mDataFrame.fillna\u001b[1;34m(self, value, subset)\u001b[0m\n\u001b[0;32m   4449\u001b[0m     value \u001b[38;5;241m=\u001b[39m \u001b[38;5;28mfloat\u001b[39m(value)\n\u001b[0;32m   4451\u001b[0m \u001b[38;5;28;01mif\u001b[39;00m \u001b[38;5;28misinstance\u001b[39m(value, \u001b[38;5;28mdict\u001b[39m):\n\u001b[1;32m-> 4452\u001b[0m     \u001b[38;5;28;01mreturn\u001b[39;00m DataFrame(\u001b[38;5;28mself\u001b[39m\u001b[38;5;241m.\u001b[39m_jdf\u001b[38;5;241m.\u001b[39mna()\u001b[38;5;241m.\u001b[39mfill(value), \u001b[38;5;28mself\u001b[39m\u001b[38;5;241m.\u001b[39msparkSession)\n\u001b[0;32m   4453\u001b[0m \u001b[38;5;28;01melif\u001b[39;00m subset \u001b[38;5;129;01mis\u001b[39;00m \u001b[38;5;28;01mNone\u001b[39;00m:\n\u001b[0;32m   4454\u001b[0m     \u001b[38;5;28;01mreturn\u001b[39;00m DataFrame(\u001b[38;5;28mself\u001b[39m\u001b[38;5;241m.\u001b[39m_jdf\u001b[38;5;241m.\u001b[39mna()\u001b[38;5;241m.\u001b[39mfill(value), \u001b[38;5;28mself\u001b[39m\u001b[38;5;241m.\u001b[39msparkSession)\n",
      "File \u001b[1;32mc:\\Users\\PAMELA\\anaconda3\\Lib\\site-packages\\py4j\\java_gateway.py:1322\u001b[0m, in \u001b[0;36mJavaMember.__call__\u001b[1;34m(self, *args)\u001b[0m\n\u001b[0;32m   1316\u001b[0m command \u001b[38;5;241m=\u001b[39m proto\u001b[38;5;241m.\u001b[39mCALL_COMMAND_NAME \u001b[38;5;241m+\u001b[39m\\\n\u001b[0;32m   1317\u001b[0m     \u001b[38;5;28mself\u001b[39m\u001b[38;5;241m.\u001b[39mcommand_header \u001b[38;5;241m+\u001b[39m\\\n\u001b[0;32m   1318\u001b[0m     args_command \u001b[38;5;241m+\u001b[39m\\\n\u001b[0;32m   1319\u001b[0m     proto\u001b[38;5;241m.\u001b[39mEND_COMMAND_PART\n\u001b[0;32m   1321\u001b[0m answer \u001b[38;5;241m=\u001b[39m \u001b[38;5;28mself\u001b[39m\u001b[38;5;241m.\u001b[39mgateway_client\u001b[38;5;241m.\u001b[39msend_command(command)\n\u001b[1;32m-> 1322\u001b[0m return_value \u001b[38;5;241m=\u001b[39m get_return_value(\n\u001b[0;32m   1323\u001b[0m     answer, \u001b[38;5;28mself\u001b[39m\u001b[38;5;241m.\u001b[39mgateway_client, \u001b[38;5;28mself\u001b[39m\u001b[38;5;241m.\u001b[39mtarget_id, \u001b[38;5;28mself\u001b[39m\u001b[38;5;241m.\u001b[39mname)\n\u001b[0;32m   1325\u001b[0m \u001b[38;5;28;01mfor\u001b[39;00m temp_arg \u001b[38;5;129;01min\u001b[39;00m temp_args:\n\u001b[0;32m   1326\u001b[0m     \u001b[38;5;28;01mif\u001b[39;00m \u001b[38;5;28mhasattr\u001b[39m(temp_arg, \u001b[38;5;124m\"\u001b[39m\u001b[38;5;124m_detach\u001b[39m\u001b[38;5;124m\"\u001b[39m):\n",
      "File \u001b[1;32mc:\\Users\\PAMELA\\anaconda3\\Lib\\site-packages\\pyspark\\errors\\exceptions\\captured.py:185\u001b[0m, in \u001b[0;36mcapture_sql_exception.<locals>.deco\u001b[1;34m(*a, **kw)\u001b[0m\n\u001b[0;32m    181\u001b[0m converted \u001b[38;5;241m=\u001b[39m convert_exception(e\u001b[38;5;241m.\u001b[39mjava_exception)\n\u001b[0;32m    182\u001b[0m \u001b[38;5;28;01mif\u001b[39;00m \u001b[38;5;129;01mnot\u001b[39;00m \u001b[38;5;28misinstance\u001b[39m(converted, UnknownException):\n\u001b[0;32m    183\u001b[0m     \u001b[38;5;66;03m# Hide where the exception came from that shows a non-Pythonic\u001b[39;00m\n\u001b[0;32m    184\u001b[0m     \u001b[38;5;66;03m# JVM exception message.\u001b[39;00m\n\u001b[1;32m--> 185\u001b[0m     \u001b[38;5;28;01mraise\u001b[39;00m converted \u001b[38;5;28;01mfrom\u001b[39;00m \u001b[38;5;28;01mNone\u001b[39;00m\n\u001b[0;32m    186\u001b[0m \u001b[38;5;28;01melse\u001b[39;00m:\n\u001b[0;32m    187\u001b[0m     \u001b[38;5;28;01mraise\u001b[39;00m\n",
      "\u001b[1;31mAnalysisException\u001b[0m: [UNRESOLVED_COLUMN.WITH_SUGGESTION] A column or function parameter with name `Rating` cannot be resolved. Did you mean one of the following? [`Transaction_Date`, `Amount`, `Transaction_Type`, `Customer_Name`, `Customer_Address`, `Customer_City`, `Customer_State`, `Customer_Country`, `Company`, `Job_Title`, `Email`, `Phone_Number`, `Credit_Card_Number`, `IBAN`, `Currency_Code`, `Random_Number`, `Category`, `Group`, `Is_Active`, `Last_Updated`, `Description`, `Gender`, `Marital_Status`]."
     ]
    }
   ],
   "source": [
    "ecom_df = ecom_df.fillna({\n",
    "    'Rating':0,\n",
    "    'Review':'No Review',\n",
    "    'NullColumn': 'unknown'\n",
    "})"
   ]
  },
  {
   "cell_type": "code",
   "execution_count": null,
   "metadata": {},
   "outputs": [],
   "source": [
    "ecom_df =ecom_df.na.drop(subset=[''])"
   ]
  },
  {
   "cell_type": "code",
   "execution_count": null,
   "metadata": {},
   "outputs": [],
   "source": [
    "ecom_df = ecom_df.withColumn('TotalCost', col)"
   ]
  },
  {
   "cell_type": "code",
   "execution_count": null,
   "metadata": {},
   "outputs": [],
   "source": [
    "filtered_ecom_df = ecom_df.filter(col('Quantity')>5)\n",
    "filtered_ecom_df.show()"
   ]
  },
  {
   "cell_type": "code",
   "execution_count": null,
   "metadata": {},
   "outputs": [],
   "source": [
    "ecom_df_id = ecom_df.select('', '',)"
   ]
  },
  {
   "cell_type": "code",
   "execution_count": null,
   "metadata": {},
   "outputs": [
    {
     "ename": "",
     "evalue": "",
     "output_type": "error",
     "traceback": [
      "\u001b[1;31mThe Kernel crashed while executing code in the current cell or a previous cell. \n",
      "\u001b[1;31mPlease review the code in the cell(s) to identify a possible cause of the failure. \n",
      "\u001b[1;31mClick <a href='https://aka.ms/vscodeJupyterKernelCrash'>here</a> for more info. \n",
      "\u001b[1;31mView Jupyter <a href='command:jupyter.viewOutput'>log</a> for further details."
     ]
    }
   ],
   "source": [
    "ecom_df.write.partitionBy('Transaction_Date').parquet('partitioned_data')"
   ]
  },
  {
   "cell_type": "code",
   "execution_count": null,
   "metadata": {},
   "outputs": [],
   "source": [
    "new_ecom_df = spark.read.parquet('partitioned_data')\n",
    "new_ecom_df.show()"
   ]
  },
  {
   "cell_type": "code",
   "execution_count": null,
   "metadata": {},
   "outputs": [],
   "source": [
    "ecom_df = ecom_df.withColumn('ClientName', col('Customer_'))"
   ]
  }
 ],
 "metadata": {
  "kernelspec": {
   "display_name": "Python 3",
   "language": "python",
   "name": "python3"
  },
  "language_info": {
   "codemirror_mode": {
    "name": "ipython",
    "version": 3
   },
   "file_extension": ".py",
   "mimetype": "text/x-python",
   "name": "python",
   "nbconvert_exporter": "python",
   "pygments_lexer": "ipython3",
   "version": "3.9.19"
  }
 },
 "nbformat": 4,
 "nbformat_minor": 2
}
